{
 "cells": [
  {
   "cell_type": "markdown",
   "metadata": {},
   "source": [
    "# WeatherPy\n",
    "----\n",
    "\n",
    "#### Note\n",
    "* Instructions have been included for each segment. You do not have to follow them exactly, but they are included to help you think through the steps."
   ]
  },
  {
   "cell_type": "code",
   "execution_count": 1,
   "metadata": {
    "scrolled": true
   },
   "outputs": [],
   "source": [
    "# Dependencies and Setup\n",
    "import matplotlib.pyplot as plt\n",
    "import pandas as pd\n",
    "import numpy as np\n",
    "import requests\n",
    "import time\n",
    "import json\n",
    "import csv\n",
    "from scipy.stats import linregress\n",
    "\n",
    "# Import API key\n",
    "from api_keys import weather_api_key\n",
    "\n",
    "# Incorporated citipy to determine city based on latitude and longitude\n",
    "from citipy import citipy\n",
    "\n",
    "# Output File (CSV)\n",
    "output_data_file = \"../output_data/cities.csv\"\n",
    "\n",
    "# Range of latitudes and longitudes\n",
    "lat_range = (-90, 90)\n",
    "lng_range = (-180, 180)\n"
   ]
  },
  {
   "cell_type": "code",
   "execution_count": 2,
   "metadata": {},
   "outputs": [],
   "source": [
    "#!pip install citipy\n"
   ]
  },
  {
   "cell_type": "markdown",
   "metadata": {},
   "source": [
    "## Generate Cities List"
   ]
  },
  {
   "cell_type": "code",
   "execution_count": 3,
   "metadata": {},
   "outputs": [
    {
     "data": {
      "text/plain": [
       "617"
      ]
     },
     "execution_count": 3,
     "metadata": {},
     "output_type": "execute_result"
    }
   ],
   "source": [
    "# List for holding lat_lngs and cities\n",
    "lat_lngs = []\n",
    "cities = []\n",
    "\n",
    "# Create a set of random lat and lng combinations\n",
    "lats = np.random.uniform(lat_range[0], lat_range[1], size=1500)\n",
    "lngs = np.random.uniform(lng_range[0], lng_range[1], size=1500)\n",
    "lat_lngs = zip(lats, lngs)\n",
    "\n",
    "# Identify nearest city for each lat, lng combination\n",
    "for lat_lng in lat_lngs:\n",
    "    city = citipy.nearest_city(lat_lng[0], lat_lng[1]).city_name\n",
    "    \n",
    "    # If the city is unique, then add it to a our cities list\n",
    "    if city not in cities:\n",
    "        cities.append(city)\n",
    "\n",
    "# Print the city count to confirm sufficient count\n",
    "len(cities)"
   ]
  },
  {
   "cell_type": "markdown",
   "metadata": {},
   "source": [
    "### Perform API Calls\n",
    "* Perform a weather check on each city using a series of successive API calls.\n",
    "* Include a print log of each city as it'sbeing processed (with the city number and city name).\n"
   ]
  },
  {
   "cell_type": "code",
   "execution_count": 4,
   "metadata": {
    "scrolled": true
   },
   "outputs": [
    {
     "name": "stdout",
     "output_type": "stream",
     "text": [
      "print log nowa sol\n",
      "print log talnakh\n",
      "print log mingguang\n",
      "print log khatanga\n",
      "print log buariki\n",
      "print log tuktoyaktuk\n",
      "print log taolanaro\n",
      "print log bouna\n",
      "print log kapaa\n",
      "print log tuatapere\n",
      "print log guadalupe y calvo\n",
      "print log upernavik\n",
      "print log victoria\n",
      "print log illoqqortoormiut\n",
      "print log ahmadpur east\n",
      "print log narsaq\n",
      "print log ushuaia\n",
      "print log zhangye\n",
      "print log mecca\n",
      "print log makasar\n",
      "print log smolyaninovo\n",
      "print log mersing\n",
      "print log taunggyi\n",
      "print log mitchell\n",
      "print log sao filipe\n",
      "print log saint-philippe\n",
      "print log lompoc\n",
      "print log saldanha\n",
      "print log punta arenas\n",
      "print log busselton\n",
      "print log osinki\n",
      "print log port alfred\n",
      "print log brainerd\n",
      "print log mataura\n",
      "print log sitka\n",
      "print log port moresby\n",
      "print log alice springs\n",
      "print log puerto ayora\n",
      "print log tarudant\n",
      "print log maceio\n",
      "print log nanortalik\n",
      "print log bengkulu\n",
      "print log namibe\n",
      "print log praya\n",
      "print log marawi\n",
      "print log fort nelson\n",
      "print log hobyo\n",
      "print log thompson\n",
      "print log georgetown\n",
      "print log merauke\n",
      "print log saskylakh\n",
      "print log rikitea\n",
      "print log beringovskiy\n",
      "print log gogrial\n",
      "print log yellowknife\n",
      "print log aklavik\n",
      "print log qaanaaq\n",
      "print log jamestown\n",
      "print log chokurdakh\n",
      "print log arraial do cabo\n",
      "print log port lincoln\n",
      "print log nanyang\n",
      "print log clyde river\n",
      "print log vaini\n",
      "print log olinda\n",
      "print log faanui\n",
      "print log coahuayana\n",
      "print log ilulissat\n",
      "print log brae\n",
      "print log albany\n",
      "print log coihaique\n",
      "print log sete\n",
      "print log atuona\n",
      "print log harnosand\n",
      "print log airai\n",
      "print log disraeli\n",
      "print log aripuana\n",
      "print log cape town\n",
      "print log popondetta\n",
      "print log saint george\n",
      "print log lavrentiya\n",
      "print log itoman\n",
      "print log aras\n",
      "print log dunda\n",
      "print log barrow\n",
      "print log mar del plata\n",
      "print log barentsburg\n",
      "print log ponta do sol\n",
      "print log torbay\n",
      "print log tongchuan\n",
      "print log paamiut\n",
      "print log saint anthony\n",
      "print log bitadton\n",
      "print log parras\n",
      "print log burica\n",
      "print log te anau\n",
      "print log leningradskiy\n",
      "print log hovd\n",
      "print log hithadhoo\n",
      "print log mosetse\n",
      "print log shimoda\n",
      "print log ust-barguzin\n",
      "print log saint-pierre\n",
      "print log east london\n",
      "print log bongandanga\n",
      "print log santa cruz\n",
      "print log havelock\n",
      "print log pillaro\n",
      "print log santa pola\n",
      "print log pangnirtung\n",
      "print log fuyu\n",
      "print log padang\n",
      "print log tsihombe\n",
      "print log nouadhibou\n",
      "print log arona\n",
      "print log requena\n",
      "print log bredasdorp\n",
      "print log yumen\n",
      "print log severo-kurilsk\n",
      "print log chuy\n",
      "print log chulman\n",
      "print log bathsheba\n",
      "print log hobart\n",
      "print log zabid\n",
      "print log zhuhai\n",
      "print log bluff\n",
      "print log urumqi\n",
      "print log walvis bay\n",
      "print log dikson\n",
      "print log graham\n",
      "print log sung noen\n",
      "print log jardim\n",
      "print log carnarvon\n",
      "print log teguise\n",
      "print log klaksvik\n",
      "print log shetpe\n",
      "print log ostersund\n",
      "print log amderma\n",
      "print log avera\n",
      "print log vanimo\n",
      "print log avarua\n",
      "print log eyl\n",
      "print log dolinsk\n",
      "print log vao\n",
      "print log nizhneyansk\n",
      "print log adrar\n",
      "print log wahran\n",
      "print log henties bay\n",
      "print log touros\n",
      "print log kodiak\n",
      "print log columbia\n",
      "print log micheweni\n",
      "print log charters towers\n",
      "print log asau\n",
      "print log umzimvubu\n",
      "print log nikolskoye\n",
      "print log bur gabo\n",
      "print log provaton\n",
      "print log kahului\n",
      "print log atar\n",
      "print log yerbogachen\n",
      "print log kavieng\n",
      "print log poum\n",
      "print log olavarria\n",
      "print log tynne\n",
      "print log guerrero negro\n",
      "print log norsup\n",
      "print log erhlin\n",
      "print log vila velha\n",
      "print log margate\n",
      "print log kaitangata\n",
      "print log katherine\n",
      "print log haines junction\n",
      "print log luanda\n",
      "print log marcona\n",
      "print log ligatne\n",
      "print log new norfolk\n",
      "print log san ignacio\n",
      "print log hilo\n",
      "print log hualmay\n",
      "print log mys shmidta\n",
      "print log dingle\n",
      "print log sambava\n",
      "print log launceston\n",
      "print log shumskiy\n",
      "print log teneguiban\n",
      "print log provideniya\n",
      "print log mpraeso\n",
      "print log port hardy\n",
      "print log hay river\n",
      "print log mayor pablo lagerenza\n",
      "print log huron\n",
      "print log sitia\n",
      "print log hofn\n",
      "print log piripiri\n",
      "print log vagur\n",
      "print log reconquista\n",
      "print log oistins\n",
      "print log marsabit\n",
      "print log lebanon\n",
      "print log norman wells\n",
      "print log sur\n",
      "print log longyearbyen\n",
      "print log tual\n",
      "print log wulanhaote\n",
      "print log gergebil\n",
      "print log butaritari\n",
      "print log port blair\n",
      "print log konyshevka\n",
      "print log rawannawi\n",
      "print log puerto madryn\n",
      "print log jacareacanga\n",
      "print log jaguaruana\n",
      "print log iracoubo\n",
      "print log chunoyar\n",
      "print log vuktyl\n",
      "print log mahebourg\n",
      "print log tezu\n",
      "print log moussoro\n",
      "print log kamenskiy\n",
      "print log utila\n",
      "print log las palmas\n",
      "print log kruisfontein\n",
      "print log ruatoria\n",
      "print log leczyca\n",
      "print log samusu\n",
      "print log moranbah\n",
      "print log saleaula\n",
      "print log ormara\n",
      "print log back mountain\n",
      "print log dubbo\n",
      "print log fengrun\n",
      "print log yaring\n",
      "print log seoul\n",
      "print log iqaluit\n",
      "print log galle\n",
      "print log goundam\n",
      "print log businga\n",
      "print log sorvag\n",
      "print log sao felix do xingu\n",
      "print log bani walid\n",
      "print log kloulklubed\n",
      "print log san patricio\n",
      "print log jabiru\n",
      "print log bialystok\n",
      "print log hunza\n",
      "print log starobaltachevo\n",
      "print log honningsvag\n",
      "print log kodinsk\n",
      "print log san julian\n",
      "print log pangkalanbuun\n",
      "print log ixtapa\n",
      "print log marienburg\n",
      "print log kuito\n",
      "print log palabuhanratu\n",
      "print log makakilo city\n",
      "print log mount gambier\n",
      "print log komsomolskiy\n",
      "print log pimentel\n",
      "print log vardo\n",
      "print log vaitupu\n",
      "print log kholtoson\n",
      "print log willemstad\n",
      "print log praia da vitoria\n",
      "print log port elizabeth\n",
      "print log mariel\n",
      "print log itarema\n",
      "print log nuevo laredo\n",
      "print log ures\n",
      "print log nishihara\n",
      "print log castro\n",
      "print log madang\n",
      "print log hermanus\n",
      "print log iralaya\n",
      "print log kenora\n",
      "print log zhumadian\n",
      "print log chapais\n",
      "print log ribeira grande\n",
      "print log hamilton\n",
      "print log kavaratti\n",
      "print log taltal\n",
      "print log bilibino\n",
      "print log oksfjord\n",
      "print log bethel\n",
      "print log koumac\n",
      "print log sharya\n",
      "print log grabouw\n",
      "print log namatanai\n",
      "print log kemijarvi\n",
      "print log oberhaching\n",
      "print log luderitz\n",
      "print log concordia\n",
      "print log attawapiskat\n",
      "print log lebu\n",
      "print log mandali\n",
      "print log manuk mangkaw\n",
      "print log bundaberg\n",
      "print log esperance\n",
      "print log pilar de la horadada\n",
      "print log jhawarian\n",
      "print log pithiviers\n",
      "print log pevek\n",
      "print log zacatlan\n",
      "print log coquimbo\n",
      "print log dutlwe\n",
      "print log marystown\n",
      "print log gorno-chuyskiy\n",
      "print log metuchen\n",
      "print log tiznit\n",
      "print log ancud\n",
      "print log ayutla\n",
      "print log sinnamary\n",
      "print log amazar\n",
      "print log olafsvik\n",
      "print log igarka\n",
      "print log soe\n",
      "print log chokwe\n",
      "print log cabo san lucas\n",
      "print log luwuk\n",
      "print log akyab\n",
      "print log magadan\n",
      "print log grand river south east\n",
      "print log tanda\n",
      "print log tasiilaq\n",
      "print log bambous virieux\n",
      "print log tiksi\n",
      "print log laguna\n",
      "print log athabasca\n",
      "print log mbanza-ngungu\n",
      "print log vostok\n",
      "print log shelburne\n",
      "print log hami\n",
      "print log mrirt\n",
      "print log labuhan\n",
      "print log santa cruz de tenerife\n",
      "print log zhigansk\n",
      "print log beloha\n",
      "print log santa cruz de la palma\n",
      "print log aasiaat\n",
      "print log naron\n",
      "print log eucaliptus\n",
      "print log roald\n",
      "print log souillac\n",
      "print log tolaga bay\n",
      "print log whitehorse\n",
      "print log lisburn\n",
      "print log saint-joseph\n",
      "print log malwan\n",
      "print log armacao dos buzios\n",
      "print log north bend\n",
      "print log san pedro\n",
      "print log merchtem\n",
      "print log san felipe\n",
      "print log belushya guba\n",
      "print log silyanah\n",
      "print log oyama\n",
      "print log wisconsin rapids\n",
      "print log canchungo\n",
      "print log waterfoot\n",
      "print log winslow\n",
      "print log kihei\n",
      "print log brigantine\n",
      "print log gidole\n",
      "print log chany\n",
      "print log taoudenni\n",
      "print log baboua\n",
      "print log nantucket\n",
      "print log ulaangom\n",
      "print log pobe\n",
      "print log curup\n",
      "print log san quintin\n",
      "print log anadyr\n",
      "print log ternate\n",
      "print log rocha\n",
      "print log bowen\n",
      "print log rio gallegos\n",
      "print log cotacachi\n",
      "print log plettenberg bay\n",
      "print log constitucion\n",
      "print log luganville\n",
      "print log palpa\n",
      "print log kamenskoye\n",
      "print log port keats\n",
      "print log rungata\n",
      "print log kiunga\n",
      "print log simav\n",
      "print log lagoa\n",
      "print log belmonte\n",
      "print log khasan\n",
      "print log raudeberg\n",
      "print log severo-yeniseyskiy\n",
      "print log soyo\n",
      "print log tumannyy\n",
      "print log katsuura\n",
      "print log cidreira\n",
      "print log patacamaya\n",
      "print log miranorte\n",
      "print log saryshagan\n",
      "print log cherskiy\n",
      "print log half moon bay\n",
      "print log westport\n",
      "print log matamoros\n",
      "print log wahiawa\n",
      "print log yulara\n",
      "print log aden\n",
      "print log methoni\n",
      "print log benghazi\n",
      "print log kaspiysk\n",
      "print log ukiah\n",
      "print log nome\n",
      "print log bandarbeyla\n",
      "print log meulaboh\n",
      "print log fortuna\n",
      "print log vesoul\n",
      "print log imuris\n",
      "print log aksu\n",
      "print log gizo\n",
      "print log munsingen\n",
      "print log rawson\n",
      "print log nador\n",
      "print log beira\n",
      "print log codrington\n",
      "print log roura\n",
      "print log nara\n",
      "print log lewistown\n",
      "print log erechim\n",
      "print log joshimath\n",
      "print log hervey bay\n",
      "print log sentyabrskiy\n",
      "print log kibondo\n",
      "print log kwinana\n",
      "print log mumford\n",
      "print log arman\n",
      "print log ordynskoye\n",
      "print log comodoro rivadavia\n",
      "print log horta\n",
      "print log payo\n",
      "print log boardman\n",
      "print log novyy urengoy\n",
      "print log opuwo\n",
      "print log sistranda\n",
      "print log tautira\n",
      "print log panguna\n",
      "print log zenzeli\n",
      "print log nemuro\n",
      "print log lolua\n",
      "print log mocambique\n",
      "print log matagami\n",
      "print log australind\n",
      "print log aguada de pasajeros\n",
      "print log isangel\n",
      "print log cascais\n",
      "print log alappuzha\n",
      "print log ihosy\n",
      "print log alugan\n",
      "print log sao joao do paraiso\n",
      "print log puerto baquerizo moreno\n",
      "print log vavuniya\n",
      "print log caravelas\n",
      "print log antalaha\n",
      "print log belaya gora\n",
      "print log wuda\n",
      "print log bikapur\n",
      "print log ipora\n",
      "print log mangrol\n",
      "print log paradwip\n",
      "print log north platte\n",
      "print log pisco\n",
      "print log mantua\n",
      "print log griffith\n",
      "print log shenjiamen\n",
      "print log wilmington\n",
      "print log husavik\n",
      "print log college\n",
      "print log iquitos\n",
      "print log san giovanni in fiore\n",
      "print log januaria\n",
      "print log jalu\n",
      "print log lasa\n",
      "print log grenfell\n",
      "print log mezen\n",
      "print log puqi\n",
      "print log sungaipenuh\n",
      "print log okhotsk\n",
      "print log pelym\n",
      "print log zvenigovo\n",
      "print log george town\n",
      "print log karratha\n",
      "print log sabang\n",
      "print log kandrian\n",
      "print log huntington\n",
      "print log egvekinot\n",
      "print log spencer\n",
      "print log ekhabi\n",
      "print log smithers\n",
      "print log temaraia\n",
      "print log gaffney\n",
      "print log inuvik\n",
      "print log karaidel\n",
      "print log kushima\n",
      "print log mayya\n",
      "print log tura\n",
      "print log lively\n",
      "print log hauterive\n",
      "print log shwebo\n",
      "print log saint-augustin\n",
      "print log suntar\n",
      "print log kayerkan\n",
      "print log srednekolymsk\n",
      "print log vestmannaeyjar\n",
      "print log atescatempa\n",
      "print log hasaki\n",
      "print log qingdao\n",
      "print log lowestoft\n",
      "print log kudahuvadhoo\n",
      "print log fairlie\n",
      "print log katangli\n",
      "print log edson\n",
      "print log upata\n",
      "print log anqiu\n",
      "print log blythe\n",
      "print log emba\n",
      "print log utinga\n",
      "print log novyy urgal\n",
      "print log mozarlandia\n",
      "print log whitianga\n",
      "print log tiruvottiyur\n",
      "print log itacare\n",
      "print log faya\n",
      "print log sao jose do rio pardo\n",
      "print log singleton\n",
      "print log maumere\n",
      "print log itarantim\n",
      "print log acapulco\n",
      "print log cuddapah\n",
      "print log batagay\n",
      "print log saint-louis\n",
      "print log ascension\n",
      "print log antofagasta\n",
      "print log boa vista\n",
      "print log grand baie\n",
      "print log kasongo-lunda\n",
      "print log derzhavinsk\n",
      "print log khani\n",
      "print log ilinskoye-khovanskoye\n",
      "print log salalah\n",
      "print log haren\n",
      "print log wundanyi\n",
      "print log portland\n",
      "print log kibre mengist\n",
      "print log khash\n",
      "print log atambua\n",
      "print log naryan-mar\n",
      "print log nkhata bay\n",
      "print log broome\n",
      "print log kabo\n",
      "print log necochea\n",
      "print log graaff-reinet\n",
      "print log fagernes\n",
      "print log ust-tsilma\n",
      "print log kozlovo\n",
      "print log kaduqli\n",
      "print log marand\n",
      "print log lamar\n",
      "print log watsa\n",
      "print log cagayan de tawi-tawi\n",
      "print log sobolevo\n",
      "print log sao joao da barra\n",
      "print log yatou\n",
      "print log qasigiannguit\n",
      "print log malakal\n",
      "print log rio grande\n",
      "print log zlatoust\n",
      "print log harper\n",
      "print log kuala terengganu\n",
      "print log butwal\n",
      "print log chara\n",
      "print log inta\n",
      "print log san policarpo\n",
      "print log jumla\n",
      "print log bocanda\n",
      "print log charlestown\n",
      "print log inirida\n",
      "print log darlington\n",
      "print log felanitx\n",
      "print log la ronge\n",
      "print log kailasahar\n",
      "print log sabya\n",
      "print log grande prairie\n",
      "print log mariental\n",
      "print log sire\n",
      "print log bol\n",
      "print log sioux lookout\n",
      "print log kelvington\n",
      "print log chingirlau\n",
      "print log fagersta\n",
      "print log saint-jean-de-dieu\n",
      "print log dakar\n",
      "print log montepuez\n",
      "print log moba\n",
      "print log lazaro cardenas\n",
      "print log paratinga\n",
      "print log evensk\n",
      "print log neiafu\n",
      "print log sungairaya\n",
      "print log galiwinku\n",
      "print log kubachi\n",
      "print log tadine\n",
      "print log bargal\n",
      "print log timberlake\n",
      "print log cranbrook\n",
      "print log yershov\n",
      "print log hearst\n",
      "print log shingu\n",
      "print log shenkursk\n",
      "print log lienz\n",
      "print log elko\n"
     ]
    }
   ],
   "source": [
    "url = \"http://api.openweathermap.org/data/2.5/weather?\"\n",
    "query_url = f\"{url}appid={weather_api_key}&q=\"\n",
    "weather_response = requests.get(query_url)\n",
    "weather_json = weather_response.json()\n",
    "\n",
    "for city in cities:\n",
    "    print(f\"print log {city}\")\n"
   ]
  },
  {
   "cell_type": "markdown",
   "metadata": {},
   "source": [
    "### Convert Raw Data to DataFrame\n",
    "* Export the city data into a .csv.\n",
    "* Display the DataFrame"
   ]
  },
  {
   "cell_type": "code",
   "execution_count": 5,
   "metadata": {},
   "outputs": [
    {
     "data": {
      "text/html": [
       "<div>\n",
       "<style scoped>\n",
       "    .dataframe tbody tr th:only-of-type {\n",
       "        vertical-align: middle;\n",
       "    }\n",
       "\n",
       "    .dataframe tbody tr th {\n",
       "        vertical-align: top;\n",
       "    }\n",
       "\n",
       "    .dataframe thead th {\n",
       "        text-align: right;\n",
       "    }\n",
       "</style>\n",
       "<table border=\"1\" class=\"dataframe\">\n",
       "  <thead>\n",
       "    <tr style=\"text-align: right;\">\n",
       "      <th></th>\n",
       "      <th>City_ID</th>\n",
       "      <th>City</th>\n",
       "      <th>Cloudiness</th>\n",
       "      <th>Country</th>\n",
       "      <th>Date</th>\n",
       "      <th>Humidity</th>\n",
       "      <th>Lat</th>\n",
       "      <th>Lng</th>\n",
       "      <th>Max Temp</th>\n",
       "      <th>Wind Speed</th>\n",
       "    </tr>\n",
       "  </thead>\n",
       "  <tbody>\n",
       "    <tr>\n",
       "      <th>0</th>\n",
       "      <td>0</td>\n",
       "      <td>ostrovnoy</td>\n",
       "      <td>2</td>\n",
       "      <td>RU</td>\n",
       "      <td>1558378754</td>\n",
       "      <td>72</td>\n",
       "      <td>68.05</td>\n",
       "      <td>39.51</td>\n",
       "      <td>37.50</td>\n",
       "      <td>7.16</td>\n",
       "    </tr>\n",
       "    <tr>\n",
       "      <th>1</th>\n",
       "      <td>1</td>\n",
       "      <td>mahebourg</td>\n",
       "      <td>75</td>\n",
       "      <td>MU</td>\n",
       "      <td>1558378503</td>\n",
       "      <td>74</td>\n",
       "      <td>-20.41</td>\n",
       "      <td>57.70</td>\n",
       "      <td>78.80</td>\n",
       "      <td>11.41</td>\n",
       "    </tr>\n",
       "    <tr>\n",
       "      <th>2</th>\n",
       "      <td>2</td>\n",
       "      <td>qaanaaq</td>\n",
       "      <td>25</td>\n",
       "      <td>GL</td>\n",
       "      <td>1558378755</td>\n",
       "      <td>73</td>\n",
       "      <td>77.48</td>\n",
       "      <td>-69.36</td>\n",
       "      <td>22.20</td>\n",
       "      <td>2.37</td>\n",
       "    </tr>\n",
       "    <tr>\n",
       "      <th>3</th>\n",
       "      <td>3</td>\n",
       "      <td>zhuhai</td>\n",
       "      <td>0</td>\n",
       "      <td>CN</td>\n",
       "      <td>1558378755</td>\n",
       "      <td>39</td>\n",
       "      <td>40.71</td>\n",
       "      <td>112.04</td>\n",
       "      <td>44.60</td>\n",
       "      <td>4.47</td>\n",
       "    </tr>\n",
       "    <tr>\n",
       "      <th>4</th>\n",
       "      <td>4</td>\n",
       "      <td>cape town</td>\n",
       "      <td>20</td>\n",
       "      <td>ZA</td>\n",
       "      <td>1558378755</td>\n",
       "      <td>76</td>\n",
       "      <td>-33.93</td>\n",
       "      <td>18.42</td>\n",
       "      <td>55.99</td>\n",
       "      <td>8.05</td>\n",
       "    </tr>\n",
       "    <tr>\n",
       "      <th>...</th>\n",
       "      <td>...</td>\n",
       "      <td>...</td>\n",
       "      <td>...</td>\n",
       "      <td>...</td>\n",
       "      <td>...</td>\n",
       "      <td>...</td>\n",
       "      <td>...</td>\n",
       "      <td>...</td>\n",
       "      <td>...</td>\n",
       "      <td>...</td>\n",
       "    </tr>\n",
       "    <tr>\n",
       "      <th>543</th>\n",
       "      <td>543</td>\n",
       "      <td>yabrud</td>\n",
       "      <td>0</td>\n",
       "      <td>SY</td>\n",
       "      <td>1558378840</td>\n",
       "      <td>32</td>\n",
       "      <td>33.97</td>\n",
       "      <td>36.66</td>\n",
       "      <td>80.60</td>\n",
       "      <td>8.05</td>\n",
       "    </tr>\n",
       "    <tr>\n",
       "      <th>544</th>\n",
       "      <td>544</td>\n",
       "      <td>paraiso</td>\n",
       "      <td>5</td>\n",
       "      <td>MX</td>\n",
       "      <td>1558378898</td>\n",
       "      <td>4</td>\n",
       "      <td>24.01</td>\n",
       "      <td>-104.61</td>\n",
       "      <td>84.20</td>\n",
       "      <td>16.11</td>\n",
       "    </tr>\n",
       "    <tr>\n",
       "      <th>545</th>\n",
       "      <td>545</td>\n",
       "      <td>veraval</td>\n",
       "      <td>0</td>\n",
       "      <td>FR</td>\n",
       "      <td>1558378898</td>\n",
       "      <td>62</td>\n",
       "      <td>49.65</td>\n",
       "      <td>0.71</td>\n",
       "      <td>61.00</td>\n",
       "      <td>8.05</td>\n",
       "    </tr>\n",
       "    <tr>\n",
       "      <th>546</th>\n",
       "      <td>546</td>\n",
       "      <td>novyy urgal</td>\n",
       "      <td>100</td>\n",
       "      <td>RU</td>\n",
       "      <td>1558378899</td>\n",
       "      <td>93</td>\n",
       "      <td>51.07</td>\n",
       "      <td>132.56</td>\n",
       "      <td>49.74</td>\n",
       "      <td>2.68</td>\n",
       "    </tr>\n",
       "    <tr>\n",
       "      <th>547</th>\n",
       "      <td>547</td>\n",
       "      <td>tongren</td>\n",
       "      <td>4</td>\n",
       "      <td>CN</td>\n",
       "      <td>1558378899</td>\n",
       "      <td>64</td>\n",
       "      <td>27.72</td>\n",
       "      <td>109.18</td>\n",
       "      <td>55.86</td>\n",
       "      <td>2.84</td>\n",
       "    </tr>\n",
       "  </tbody>\n",
       "</table>\n",
       "<p>548 rows × 10 columns</p>\n",
       "</div>"
      ],
      "text/plain": [
       "     City_ID         City  Cloudiness Country        Date  Humidity    Lat  \\\n",
       "0          0    ostrovnoy           2      RU  1558378754        72  68.05   \n",
       "1          1    mahebourg          75      MU  1558378503        74 -20.41   \n",
       "2          2      qaanaaq          25      GL  1558378755        73  77.48   \n",
       "3          3       zhuhai           0      CN  1558378755        39  40.71   \n",
       "4          4    cape town          20      ZA  1558378755        76 -33.93   \n",
       "..       ...          ...         ...     ...         ...       ...    ...   \n",
       "543      543       yabrud           0      SY  1558378840        32  33.97   \n",
       "544      544      paraiso           5      MX  1558378898         4  24.01   \n",
       "545      545      veraval           0      FR  1558378898        62  49.65   \n",
       "546      546  novyy urgal         100      RU  1558378899        93  51.07   \n",
       "547      547      tongren           4      CN  1558378899        64  27.72   \n",
       "\n",
       "        Lng  Max Temp  Wind Speed  \n",
       "0     39.51     37.50        7.16  \n",
       "1     57.70     78.80       11.41  \n",
       "2    -69.36     22.20        2.37  \n",
       "3    112.04     44.60        4.47  \n",
       "4     18.42     55.99        8.05  \n",
       "..      ...       ...         ...  \n",
       "543   36.66     80.60        8.05  \n",
       "544 -104.61     84.20       16.11  \n",
       "545    0.71     61.00        8.05  \n",
       "546  132.56     49.74        2.68  \n",
       "547  109.18     55.86        2.84  \n",
       "\n",
       "[548 rows x 10 columns]"
      ]
     },
     "execution_count": 5,
     "metadata": {},
     "output_type": "execute_result"
    }
   ],
   "source": [
    "weather_df = pd.read_csv(\"../output_data/cities.csv\")\n",
    "weather_df"
   ]
  },
  {
   "cell_type": "code",
   "execution_count": null,
   "metadata": {},
   "outputs": [],
   "source": []
  },
  {
   "cell_type": "markdown",
   "metadata": {},
   "source": [
    "## Inspect the data and remove the cities where the humidity > 100%.\n",
    "----\n",
    "Skip this step if there are no cities that have humidity > 100%. "
   ]
  },
  {
   "cell_type": "code",
   "execution_count": 6,
   "metadata": {},
   "outputs": [
    {
     "data": {
      "text/html": [
       "<div>\n",
       "<style scoped>\n",
       "    .dataframe tbody tr th:only-of-type {\n",
       "        vertical-align: middle;\n",
       "    }\n",
       "\n",
       "    .dataframe tbody tr th {\n",
       "        vertical-align: top;\n",
       "    }\n",
       "\n",
       "    .dataframe thead th {\n",
       "        text-align: right;\n",
       "    }\n",
       "</style>\n",
       "<table border=\"1\" class=\"dataframe\">\n",
       "  <thead>\n",
       "    <tr style=\"text-align: right;\">\n",
       "      <th></th>\n",
       "      <th>City_ID</th>\n",
       "      <th>City</th>\n",
       "      <th>Cloudiness</th>\n",
       "      <th>Country</th>\n",
       "      <th>Date</th>\n",
       "      <th>Humidity</th>\n",
       "      <th>Lat</th>\n",
       "      <th>Lng</th>\n",
       "      <th>Max Temp</th>\n",
       "      <th>Wind Speed</th>\n",
       "    </tr>\n",
       "  </thead>\n",
       "  <tbody>\n",
       "    <tr>\n",
       "      <th>129</th>\n",
       "      <td>129</td>\n",
       "      <td>paita</td>\n",
       "      <td>0</td>\n",
       "      <td>PE</td>\n",
       "      <td>1558378778</td>\n",
       "      <td>290</td>\n",
       "      <td>-5.09</td>\n",
       "      <td>-81.11</td>\n",
       "      <td>62.6</td>\n",
       "      <td>17.22</td>\n",
       "    </tr>\n",
       "  </tbody>\n",
       "</table>\n",
       "</div>"
      ],
      "text/plain": [
       "     City_ID   City  Cloudiness Country        Date  Humidity   Lat    Lng  \\\n",
       "129      129  paita           0      PE  1558378778       290 -5.09 -81.11   \n",
       "\n",
       "     Max Temp  Wind Speed  \n",
       "129      62.6       17.22  "
      ]
     },
     "execution_count": 6,
     "metadata": {},
     "output_type": "execute_result"
    }
   ],
   "source": [
    "#  Get the indices of cities that have humidity over 100%.\n",
    "humidity_over_100 = weather_df.loc[weather_df[\"Humidity\"]>101]\n",
    "humidity_over_100"
   ]
  },
  {
   "cell_type": "code",
   "execution_count": 7,
   "metadata": {},
   "outputs": [],
   "source": [
    "# Make a new DataFrame equal to the city data to drop all humidity outliers by index.\n",
    "# Passing \"inplace=False\" will make a copy of the city_data DataFrame, which we call \"clean_city_data\".\n"
   ]
  },
  {
   "cell_type": "code",
   "execution_count": 8,
   "metadata": {},
   "outputs": [
    {
     "data": {
      "text/html": [
       "<div>\n",
       "<style scoped>\n",
       "    .dataframe tbody tr th:only-of-type {\n",
       "        vertical-align: middle;\n",
       "    }\n",
       "\n",
       "    .dataframe tbody tr th {\n",
       "        vertical-align: top;\n",
       "    }\n",
       "\n",
       "    .dataframe thead th {\n",
       "        text-align: right;\n",
       "    }\n",
       "</style>\n",
       "<table border=\"1\" class=\"dataframe\">\n",
       "  <thead>\n",
       "    <tr style=\"text-align: right;\">\n",
       "      <th></th>\n",
       "      <th>City_ID</th>\n",
       "      <th>City</th>\n",
       "      <th>Cloudiness</th>\n",
       "      <th>Country</th>\n",
       "      <th>Date</th>\n",
       "      <th>Humidity</th>\n",
       "      <th>Lat</th>\n",
       "      <th>Lng</th>\n",
       "      <th>Max Temp</th>\n",
       "      <th>Wind Speed</th>\n",
       "    </tr>\n",
       "  </thead>\n",
       "  <tbody>\n",
       "    <tr>\n",
       "      <th>0</th>\n",
       "      <td>0</td>\n",
       "      <td>ostrovnoy</td>\n",
       "      <td>2</td>\n",
       "      <td>RU</td>\n",
       "      <td>1558378754</td>\n",
       "      <td>72</td>\n",
       "      <td>68.05</td>\n",
       "      <td>39.51</td>\n",
       "      <td>37.50</td>\n",
       "      <td>7.16</td>\n",
       "    </tr>\n",
       "    <tr>\n",
       "      <th>1</th>\n",
       "      <td>1</td>\n",
       "      <td>mahebourg</td>\n",
       "      <td>75</td>\n",
       "      <td>MU</td>\n",
       "      <td>1558378503</td>\n",
       "      <td>74</td>\n",
       "      <td>-20.41</td>\n",
       "      <td>57.70</td>\n",
       "      <td>78.80</td>\n",
       "      <td>11.41</td>\n",
       "    </tr>\n",
       "    <tr>\n",
       "      <th>2</th>\n",
       "      <td>2</td>\n",
       "      <td>qaanaaq</td>\n",
       "      <td>25</td>\n",
       "      <td>GL</td>\n",
       "      <td>1558378755</td>\n",
       "      <td>73</td>\n",
       "      <td>77.48</td>\n",
       "      <td>-69.36</td>\n",
       "      <td>22.20</td>\n",
       "      <td>2.37</td>\n",
       "    </tr>\n",
       "    <tr>\n",
       "      <th>3</th>\n",
       "      <td>3</td>\n",
       "      <td>zhuhai</td>\n",
       "      <td>0</td>\n",
       "      <td>CN</td>\n",
       "      <td>1558378755</td>\n",
       "      <td>39</td>\n",
       "      <td>40.71</td>\n",
       "      <td>112.04</td>\n",
       "      <td>44.60</td>\n",
       "      <td>4.47</td>\n",
       "    </tr>\n",
       "    <tr>\n",
       "      <th>4</th>\n",
       "      <td>4</td>\n",
       "      <td>cape town</td>\n",
       "      <td>20</td>\n",
       "      <td>ZA</td>\n",
       "      <td>1558378755</td>\n",
       "      <td>76</td>\n",
       "      <td>-33.93</td>\n",
       "      <td>18.42</td>\n",
       "      <td>55.99</td>\n",
       "      <td>8.05</td>\n",
       "    </tr>\n",
       "    <tr>\n",
       "      <th>...</th>\n",
       "      <td>...</td>\n",
       "      <td>...</td>\n",
       "      <td>...</td>\n",
       "      <td>...</td>\n",
       "      <td>...</td>\n",
       "      <td>...</td>\n",
       "      <td>...</td>\n",
       "      <td>...</td>\n",
       "      <td>...</td>\n",
       "      <td>...</td>\n",
       "    </tr>\n",
       "    <tr>\n",
       "      <th>543</th>\n",
       "      <td>543</td>\n",
       "      <td>yabrud</td>\n",
       "      <td>0</td>\n",
       "      <td>SY</td>\n",
       "      <td>1558378840</td>\n",
       "      <td>32</td>\n",
       "      <td>33.97</td>\n",
       "      <td>36.66</td>\n",
       "      <td>80.60</td>\n",
       "      <td>8.05</td>\n",
       "    </tr>\n",
       "    <tr>\n",
       "      <th>544</th>\n",
       "      <td>544</td>\n",
       "      <td>paraiso</td>\n",
       "      <td>5</td>\n",
       "      <td>MX</td>\n",
       "      <td>1558378898</td>\n",
       "      <td>4</td>\n",
       "      <td>24.01</td>\n",
       "      <td>-104.61</td>\n",
       "      <td>84.20</td>\n",
       "      <td>16.11</td>\n",
       "    </tr>\n",
       "    <tr>\n",
       "      <th>545</th>\n",
       "      <td>545</td>\n",
       "      <td>veraval</td>\n",
       "      <td>0</td>\n",
       "      <td>FR</td>\n",
       "      <td>1558378898</td>\n",
       "      <td>62</td>\n",
       "      <td>49.65</td>\n",
       "      <td>0.71</td>\n",
       "      <td>61.00</td>\n",
       "      <td>8.05</td>\n",
       "    </tr>\n",
       "    <tr>\n",
       "      <th>546</th>\n",
       "      <td>546</td>\n",
       "      <td>novyy urgal</td>\n",
       "      <td>100</td>\n",
       "      <td>RU</td>\n",
       "      <td>1558378899</td>\n",
       "      <td>93</td>\n",
       "      <td>51.07</td>\n",
       "      <td>132.56</td>\n",
       "      <td>49.74</td>\n",
       "      <td>2.68</td>\n",
       "    </tr>\n",
       "    <tr>\n",
       "      <th>547</th>\n",
       "      <td>547</td>\n",
       "      <td>tongren</td>\n",
       "      <td>4</td>\n",
       "      <td>CN</td>\n",
       "      <td>1558378899</td>\n",
       "      <td>64</td>\n",
       "      <td>27.72</td>\n",
       "      <td>109.18</td>\n",
       "      <td>55.86</td>\n",
       "      <td>2.84</td>\n",
       "    </tr>\n",
       "  </tbody>\n",
       "</table>\n",
       "<p>547 rows × 10 columns</p>\n",
       "</div>"
      ],
      "text/plain": [
       "     City_ID         City  Cloudiness Country        Date  Humidity    Lat  \\\n",
       "0          0    ostrovnoy           2      RU  1558378754        72  68.05   \n",
       "1          1    mahebourg          75      MU  1558378503        74 -20.41   \n",
       "2          2      qaanaaq          25      GL  1558378755        73  77.48   \n",
       "3          3       zhuhai           0      CN  1558378755        39  40.71   \n",
       "4          4    cape town          20      ZA  1558378755        76 -33.93   \n",
       "..       ...          ...         ...     ...         ...       ...    ...   \n",
       "543      543       yabrud           0      SY  1558378840        32  33.97   \n",
       "544      544      paraiso           5      MX  1558378898         4  24.01   \n",
       "545      545      veraval           0      FR  1558378898        62  49.65   \n",
       "546      546  novyy urgal         100      RU  1558378899        93  51.07   \n",
       "547      547      tongren           4      CN  1558378899        64  27.72   \n",
       "\n",
       "        Lng  Max Temp  Wind Speed  \n",
       "0     39.51     37.50        7.16  \n",
       "1     57.70     78.80       11.41  \n",
       "2    -69.36     22.20        2.37  \n",
       "3    112.04     44.60        4.47  \n",
       "4     18.42     55.99        8.05  \n",
       "..      ...       ...         ...  \n",
       "543   36.66     80.60        8.05  \n",
       "544 -104.61     84.20       16.11  \n",
       "545    0.71     61.00        8.05  \n",
       "546  132.56     49.74        2.68  \n",
       "547  109.18     55.86        2.84  \n",
       "\n",
       "[547 rows x 10 columns]"
      ]
     },
     "execution_count": 8,
     "metadata": {},
     "output_type": "execute_result"
    }
   ],
   "source": [
    "clean_city_data = weather_df.drop(humidity_over_100.index)\n",
    "clean_city_data"
   ]
  },
  {
   "cell_type": "markdown",
   "metadata": {},
   "source": [
    "## Plotting the Data\n",
    "* Use proper labeling of the plots using plot titles (including date of analysis) and axes labels.\n",
    "* Save the plotted figures as .pngs."
   ]
  },
  {
   "cell_type": "markdown",
   "metadata": {},
   "source": [
    "## Latitude vs. Temperature Plot"
   ]
  },
  {
   "cell_type": "code",
   "execution_count": 9,
   "metadata": {
    "scrolled": true
   },
   "outputs": [
    {
     "data": {
      "text/plain": [
       "<matplotlib.collections.PathCollection at 0x232e0d7c0b8>"
      ]
     },
     "execution_count": 9,
     "metadata": {},
     "output_type": "execute_result"
    },
    {
     "data": {
      "image/png": "[encoded data removed]",
      "text/plain": [
       "<Figure size 432x288 with 1 Axes>"
      ]
     },
     "metadata": {
      "needs_background": "light"
     },
     "output_type": "display_data"
    }
   ],
   "source": [
    "x_value = clean_city_data[\"Lat\"]\n",
    "y_value = clean_city_data[\"Max Temp\"]\n",
    "plt.title(\"Latitude vs. Temperature Plot\")\n",
    "plt.ylabel(\"Max Temperature\")\n",
    "plt.xlabel(\"Latitude\")\n",
    "plt.tick_params(axis=\"x\", which=\"major\", labelsize=7)\n",
    "plt.grid(True)\n",
    "plt.scatter(x_value, y_value)"
   ]
  },
  {
   "cell_type": "markdown",
   "metadata": {},
   "source": [
    "## Latitude vs. Humidity Plot"
   ]
  },
  {
   "cell_type": "code",
   "execution_count": 10,
   "metadata": {},
   "outputs": [
    {
     "data": {
      "text/plain": [
       "<matplotlib.collections.PathCollection at 0x232e0d24940>"
      ]
     },
     "execution_count": 10,
     "metadata": {},
     "output_type": "execute_result"
    },
    {
     "data": {
      "image/png": "[encoded data removed]",
      "text/plain": [
       "<Figure size 432x288 with 1 Axes>"
      ]
     },
     "metadata": {
      "needs_background": "light"
     },
     "output_type": "display_data"
    }
   ],
   "source": [
    "x_value = clean_city_data[\"Lat\"]\n",
    "y_value = clean_city_data[\"Humidity\"]\n",
    "plt.title(\"Latitude vs. Humidity Plot\")\n",
    "plt.ylabel(\"Humidity\")\n",
    "plt.xlabel(\"Latitude\")\n",
    "plt.tick_params(axis=\"x\", which=\"major\", labelsize=7)\n",
    "plt.grid(True)\n",
    "plt.scatter(x_value, y_value)"
   ]
  },
  {
   "cell_type": "markdown",
   "metadata": {},
   "source": [
    "## Latitude vs. Cloudiness Plot"
   ]
  },
  {
   "cell_type": "code",
   "execution_count": 11,
   "metadata": {},
   "outputs": [
    {
     "data": {
      "text/plain": [
       "<matplotlib.collections.PathCollection at 0x232e0eec2e8>"
      ]
     },
     "execution_count": 11,
     "metadata": {},
     "output_type": "execute_result"
    },
    {
     "data": {
      "image/png": "[encoded data removed]",
      "text/plain": [
       "<Figure size 432x288 with 1 Axes>"
      ]
     },
     "metadata": {
      "needs_background": "light"
     },
     "output_type": "display_data"
    }
   ],
   "source": [
    "x_value = clean_city_data[\"Lat\"]\n",
    "y_value = clean_city_data[\"Cloudiness\"]\n",
    "plt.title(\"Latitude vs. Cloudiness Plot\")\n",
    "plt.ylabel(\"Cloudiness\")\n",
    "plt.xlabel(\"Latitude\")\n",
    "plt.tick_params(axis=\"x\", which=\"major\", labelsize=7)\n",
    "plt.grid(True)\n",
    "plt.scatter(x_value, y_value)"
   ]
  },
  {
   "cell_type": "markdown",
   "metadata": {},
   "source": [
    "## Latitude vs. Wind Speed Plot"
   ]
  },
  {
   "cell_type": "code",
   "execution_count": 12,
   "metadata": {},
   "outputs": [
    {
     "data": {
      "text/plain": [
       "<matplotlib.collections.PathCollection at 0x232e0f5c208>"
      ]
     },
     "execution_count": 12,
     "metadata": {},
     "output_type": "execute_result"
    },
    {
     "data": {
      "image/png": "[encoded data removed]",
      "text/plain": [
       "<Figure size 432x288 with 1 Axes>"
      ]
     },
     "metadata": {
      "needs_background": "light"
     },
     "output_type": "display_data"
    }
   ],
   "source": [
    "x_value = clean_city_data[\"Lat\"]\n",
    "y_value = clean_city_data[\"Wind Speed\"]\n",
    "plt.title(\"Latitude vs. Wind Speed Plot\")\n",
    "plt.ylabel(\"Wind Speed\")\n",
    "plt.xlabel(\"Latitude\")\n",
    "plt.tick_params(axis=\"x\", which=\"major\", labelsize=7)\n",
    "plt.grid(True)\n",
    "plt.scatter(x_value, y_value)"
   ]
  },
  {
   "cell_type": "markdown",
   "metadata": {},
   "source": [
    "## Linear Regression"
   ]
  },
  {
   "cell_type": "markdown",
   "metadata": {},
   "source": [
    "####  Northern Hemisphere - Max Temp vs. Latitude Linear Regression"
   ]
  },
  {
   "cell_type": "code",
   "execution_count": 13,
   "metadata": {},
   "outputs": [
    {
     "data": {
      "text/plain": [
       "<matplotlib.collections.PathCollection at 0x232e0f9cba8>"
      ]
     },
     "execution_count": 13,
     "metadata": {},
     "output_type": "execute_result"
    },
    {
     "data": {
      "image/png": "[encoded data removed]",
      "text/plain": [
       "<Figure size 432x288 with 1 Axes>"
      ]
     },
     "metadata": {
      "needs_background": "light"
     },
     "output_type": "display_data"
    }
   ],
   "source": [
    "(slope, intercept, rvalue, pvalue, stderr) = linregress(x_value, y_value)\n",
    "regress_values = x_value * slope + intercept\n",
    "line_eq = \"y = \" + str(round(slope,2)) + \"x + \" + str(round(intercept,2))\n",
    "plt.plot(x_value,regress_values,\"r-\")\n",
    "plt.annotate(line_eq,(6,10),fontsize=15,color=\"red\")\n",
    "x_value = clean_city_data[\"Lat\"]\n",
    "y_value = clean_city_data[\"Max Temp\"]\n",
    "plt.xlim(0, 100)\n",
    "plt.title(\"Northern Hemisphere - Latitude vs. Temperature Plot\")\n",
    "plt.ylabel(\"Max Temperature\")\n",
    "plt.xlabel(\"Latitude\")\n",
    "plt.tick_params(axis=\"x\", which=\"major\", labelsize=7)\n",
    "plt.grid(True)\n",
    "plt.scatter(x_value, y_value)"
   ]
  },
  {
   "cell_type": "markdown",
   "metadata": {},
   "source": [
    "####  Southern Hemisphere - Max Temp vs. Latitude Linear Regression"
   ]
  },
  {
   "cell_type": "code",
   "execution_count": 14,
   "metadata": {},
   "outputs": [
    {
     "data": {
      "text/plain": [
       "<matplotlib.collections.PathCollection at 0x232e1043860>"
      ]
     },
     "execution_count": 14,
     "metadata": {},
     "output_type": "execute_result"
    },
    {
     "data": {
      "image/png": "[encoded data removed]",
      "text/plain": [
       "<Figure size 432x288 with 1 Axes>"
      ]
     },
     "metadata": {
      "needs_background": "light"
     },
     "output_type": "display_data"
    }
   ],
   "source": [
    "(slope, intercept, rvalue, pvalue, stderr) = linregress(x_value, y_value)\n",
    "regress_values = x_value * slope + intercept\n",
    "line_eq = \"y = \" + str(round(slope,2)) + \"x + \" + str(round(intercept,2))\n",
    "plt.plot(x_value,regress_values,\"r-\")\n",
    "plt.annotate(line_eq,(-60,10),fontsize=15,color=\"red\")\n",
    "x_value = clean_city_data[\"Lat\"]\n",
    "y_value = clean_city_data[\"Max Temp\"]\n",
    "plt.xlim(-60, 0)\n",
    "plt.title(\"Southern Hemisphere - Latitude vs. Temperature Plot\")\n",
    "plt.ylabel(\"Max Temperature\")\n",
    "plt.xlabel(\"Latitude\")\n",
    "plt.tick_params(axis=\"x\", which=\"major\", labelsize=7)\n",
    "plt.grid(True)\n",
    "plt.scatter(x_value, y_value)"
   ]
  },
  {
   "cell_type": "code",
   "execution_count": null,
   "metadata": {},
   "outputs": [],
   "source": []
  },
  {
   "cell_type": "markdown",
   "metadata": {},
   "source": [
    "####  Northern Hemisphere - Humidity (%) vs. Latitude Linear Regression"
   ]
  },
  {
   "cell_type": "code",
   "execution_count": 15,
   "metadata": {},
   "outputs": [
    {
     "data": {
      "text/plain": [
       "<matplotlib.collections.PathCollection at 0x232e0f0b2e8>"
      ]
     },
     "execution_count": 15,
     "metadata": {},
     "output_type": "execute_result"
    },
    {
     "data": {
      "image/png": "[encoded data removed]",
      "text/plain": [
       "<Figure size 432x288 with 1 Axes>"
      ]
     },
     "metadata": {
      "needs_background": "light"
     },
     "output_type": "display_data"
    }
   ],
   "source": [
    "(slope, intercept, rvalue, pvalue, stderr) = linregress(x_value, y_value)\n",
    "regress_values = x_value * slope + intercept\n",
    "line_eq = \"y = \" + str(round(slope,2)) + \"x + \" + str(round(intercept,2))\n",
    "plt.plot(x_value,regress_values,\"r-\")\n",
    "plt.annotate(line_eq,(6,10),fontsize=15,color=\"red\")\n",
    "plt.xlim(0, 100)\n",
    "x_value = clean_city_data[\"Lat\"]\n",
    "y_value = clean_city_data[\"Humidity\"]\n",
    "plt.title(\"Northern Hemisphere - Latitude vs. Humidity Plot\")\n",
    "plt.ylabel(\"Humidity\")\n",
    "plt.xlabel(\"Latitude\")\n",
    "plt.tick_params(axis=\"x\", which=\"major\", labelsize=7)\n",
    "plt.grid(True)\n",
    "plt.scatter(x_value, y_value)"
   ]
  },
  {
   "cell_type": "markdown",
   "metadata": {},
   "source": [
    "####  Southern Hemisphere - Humidity (%) vs. Latitude Linear Regression"
   ]
  },
  {
   "cell_type": "code",
   "execution_count": 16,
   "metadata": {},
   "outputs": [
    {
     "data": {
      "text/plain": [
       "<matplotlib.collections.PathCollection at 0x232e107c2b0>"
      ]
     },
     "execution_count": 16,
     "metadata": {},
     "output_type": "execute_result"
    },
    {
     "data": {
      "image/png": "[encoded data removed]",
      "text/plain": [
       "<Figure size 432x288 with 1 Axes>"
      ]
     },
     "metadata": {
      "needs_background": "light"
     },
     "output_type": "display_data"
    }
   ],
   "source": [
    "(slope, intercept, rvalue, pvalue, stderr) = linregress(x_value, y_value)\n",
    "regress_values = x_value * slope + intercept\n",
    "line_eq = \"y = \" + str(round(slope,2)) + \"x + \" + str(round(intercept,2))\n",
    "plt.plot(x_value,regress_values,\"r-\")\n",
    "plt.annotate(line_eq,(-60,10),fontsize=15,color=\"red\")\n",
    "plt.xlim(-80, 0)\n",
    "x_value = clean_city_data[\"Lat\"]\n",
    "y_value = clean_city_data[\"Humidity\"]\n",
    "plt.title(\"Southern Hemisphere - Latitude vs. Humidity Plot\")\n",
    "plt.ylabel(\"Humidity\")\n",
    "plt.xlabel(\"Latitude\")\n",
    "plt.tick_params(axis=\"x\", which=\"major\", labelsize=7)\n",
    "plt.grid(True)\n",
    "plt.scatter(x_value, y_value)"
   ]
  },
  {
   "cell_type": "markdown",
   "metadata": {},
   "source": [
    "####  Northern Hemisphere - Cloudiness (%) vs. Latitude Linear Regression"
   ]
  },
  {
   "cell_type": "code",
   "execution_count": 17,
   "metadata": {},
   "outputs": [
    {
     "data": {
      "text/plain": [
       "<matplotlib.collections.PathCollection at 0x232e1174ac8>"
      ]
     },
     "execution_count": 17,
     "metadata": {},
     "output_type": "execute_result"
    },
    {
     "data": {
      "image/png": "[encoded data removed]",
      "text/plain": [
       "<Figure size 432x288 with 1 Axes>"
      ]
     },
     "metadata": {
      "needs_background": "light"
     },
     "output_type": "display_data"
    }
   ],
   "source": [
    "(slope, intercept, rvalue, pvalue, stderr) = linregress(x_value, y_value)\n",
    "regress_values = x_value * slope + intercept\n",
    "line_eq = \"y = \" + str(round(slope,2)) + \"x + \" + str(round(intercept,2))\n",
    "plt.plot(x_value,regress_values,\"r-\")\n",
    "plt.annotate(line_eq,(-60,10),fontsize=15,color=\"red\")\n",
    "plt.xlim(0, 100)\n",
    "x_value = clean_city_data[\"Lat\"]\n",
    "y_value = clean_city_data[\"Cloudiness\"]\n",
    "plt.title(\"Northern Hemisphere - Latitude vs. Cloudiness Plot\")\n",
    "plt.ylabel(\"Cloudiness\")\n",
    "plt.xlabel(\"Latitude\")\n",
    "plt.tick_params(axis=\"x\", which=\"major\", labelsize=7)\n",
    "plt.grid(True)\n",
    "plt.scatter(x_value, y_value)"
   ]
  },
  {
   "cell_type": "markdown",
   "metadata": {},
   "source": [
    "####  Southern Hemisphere - Cloudiness (%) vs. Latitude Linear Regression"
   ]
  },
  {
   "cell_type": "code",
   "execution_count": 18,
   "metadata": {},
   "outputs": [
    {
     "data": {
      "text/plain": [
       "<matplotlib.collections.PathCollection at 0x232e11e3748>"
      ]
     },
     "execution_count": 18,
     "metadata": {},
     "output_type": "execute_result"
    },
    {
     "data": {
      "image/png": "[encoded data removed]",
      "text/plain": [
       "<Figure size 432x288 with 1 Axes>"
      ]
     },
     "metadata": {
      "needs_background": "light"
     },
     "output_type": "display_data"
    }
   ],
   "source": [
    "(slope, intercept, rvalue, pvalue, stderr) = linregress(x_value, y_value)\n",
    "regress_values = x_value * slope + intercept\n",
    "line_eq = \"y = \" + str(round(slope,2)) + \"x + \" + str(round(intercept,2))\n",
    "plt.plot(x_value,regress_values,\"r-\")\n",
    "plt.annotate(line_eq,(-60,10),fontsize=15,color=\"red\")\n",
    "plt.xlim(-60, 0)\n",
    "x_value = clean_city_data[\"Lat\"]\n",
    "y_value = clean_city_data[\"Cloudiness\"]\n",
    "plt.title(\"Southern Hemisphere - Latitude vs. Cloudiness Plot\")\n",
    "plt.ylabel(\"Cloudiness\")\n",
    "plt.xlabel(\"Latitude\")\n",
    "plt.tick_params(axis=\"x\", which=\"major\", labelsize=7)\n",
    "plt.grid(True)\n",
    "plt.scatter(x_value, y_value)"
   ]
  },
  {
   "cell_type": "markdown",
   "metadata": {},
   "source": [
    "####  Northern Hemisphere - Wind Speed (mph) vs. Latitude Linear Regression"
   ]
  },
  {
   "cell_type": "code",
   "execution_count": 19,
   "metadata": {},
   "outputs": [
    {
     "data": {
      "text/plain": [
       "<matplotlib.collections.PathCollection at 0x232e221cb38>"
      ]
     },
     "execution_count": 19,
     "metadata": {},
     "output_type": "execute_result"
    },
    {
     "data": {
      "image/png": "[encoded data removed]",
      "text/plain": [
       "<Figure size 432x288 with 1 Axes>"
      ]
     },
     "metadata": {
      "needs_background": "light"
     },
     "output_type": "display_data"
    }
   ],
   "source": [
    "(slope, intercept, rvalue, pvalue, stderr) = linregress(x_value, y_value)\n",
    "regress_values = x_value * slope + intercept\n",
    "line_eq = \"y = \" + str(round(slope,2)) + \"x + \" + str(round(intercept,2))\n",
    "plt.plot(x_value,regress_values,\"r-\")\n",
    "plt.annotate(line_eq,(-60,10),fontsize=15,color=\"red\")\n",
    "plt.xlim(0, 100)\n",
    "x_value = clean_city_data[\"Lat\"]\n",
    "y_value = clean_city_data[\"Wind Speed\"]\n",
    "plt.title(\"Northern Hemisphere - Latitude vs. Wind Speed Plot\")\n",
    "plt.ylabel(\"Wind Speed\")\n",
    "plt.xlabel(\"Latitude\")\n",
    "plt.tick_params(axis=\"x\", which=\"major\", labelsize=7)\n",
    "plt.grid(True)\n",
    "plt.scatter(x_value, y_value)"
   ]
  },
  {
   "cell_type": "markdown",
   "metadata": {},
   "source": [
    "####  Southern Hemisphere - Wind Speed (mph) vs. Latitude Linear Regression"
   ]
  },
  {
   "cell_type": "code",
   "execution_count": 20,
   "metadata": {},
   "outputs": [
    {
     "data": {
      "text/plain": [
       "<matplotlib.collections.PathCollection at 0x232e2288898>"
      ]
     },
     "execution_count": 20,
     "metadata": {},
     "output_type": "execute_result"
    },
    {
     "data": {
      "image/png": "[encoded data removed]",
      "text/plain": [
       "<Figure size 432x288 with 1 Axes>"
      ]
     },
     "metadata": {
      "needs_background": "light"
     },
     "output_type": "display_data"
    }
   ],
   "source": [
    "(slope, intercept, rvalue, pvalue, stderr) = linregress(x_value, y_value)\n",
    "regress_values = x_value * slope + intercept\n",
    "line_eq = \"y = \" + str(round(slope,2)) + \"x + \" + str(round(intercept,2))\n",
    "plt.plot(x_value,regress_values,\"r-\")\n",
    "plt.annotate(line_eq,(-60,10),fontsize=15,color=\"red\")\n",
    "plt.xlim(-60, 0)\n",
    "x_value = clean_city_data[\"Lat\"]\n",
    "y_value = clean_city_data[\"Wind Speed\"]\n",
    "plt.title(\"Southern Hemisphere - Latitude vs. Wind Speed Plot\")\n",
    "plt.ylabel(\"Wind Speed\")\n",
    "plt.xlabel(\"Latitude\")\n",
    "plt.tick_params(axis=\"x\", which=\"major\", labelsize=7)\n",
    "plt.grid(True)\n",
    "plt.scatter(x_value, y_value)"
   ]
  },
  {
   "cell_type": "code",
   "execution_count": 21,
   "metadata": {},
   "outputs": [],
   "source": [
    "#three observable trends\n",
    "# 1. I did not realize it was possible to have a humidity of 290....that just sounds awful. It is interesting that the max temp there is in the low 60's and also has a high wind speed. It would be interesting to see what the heat index is there.\n",
    "#2. The closer to the equater you are the higher the temperature is. \n",
    "#3. It does not appear cloudiness has any relation to latitude"
   ]
  },
  {
   "cell_type": "code",
   "execution_count": null,
   "metadata": {},
   "outputs": [],
   "source": []
  }
 ],
 "metadata": {
  "anaconda-cloud": {},
  "kernel_info": {
   "name": "python3"
  },
  "kernelspec": {
   "display_name": "Python 3",
   "language": "python",
   "name": "python3"
  },
  "language_info": {
   "codemirror_mode": {
    "name": "ipython",
    "version": 3
   },
   "file_extension": ".py",
   "mimetype": "text/x-python",
   "name": "python",
   "nbconvert_exporter": "python",
   "pygments_lexer": "ipython3",
   "version": "3.6.12"
  },
  "latex_envs": {
   "LaTeX_envs_menu_present": true,
   "autoclose": false,
   "autocomplete": true,
   "bibliofile": "biblio.bib",
   "cite_by": "apalike",
   "current_citInitial": 1,
   "eqLabelWithNumbers": true,
   "eqNumInitial": 1,
   "hotkeys": {
    "equation": "Ctrl-E",
    "itemize": "Ctrl-I"
   },
   "labels_anchors": false,
   "latex_user_defs": false,
   "report_style_numbering": false,
   "user_envs_cfg": false
  },
  "nteract": {
   "version": "0.12.3"
  }
 },
 "nbformat": 4,
 "nbformat_minor": 2
}
